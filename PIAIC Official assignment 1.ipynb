{
 "cells": [
  {
   "cell_type": "markdown",
   "metadata": {},
   "source": [
    "## 1. Calculate Area of a Circle"
   ]
  },
  {
   "cell_type": "markdown",
   "metadata": {},
   "source": [
    "#### Write a Python program which accepts the radius of a circle from the user and compute the area.\n",
    "###### Program Console Sample Output 1:\n",
    "###### Input Radius: 0.5\n",
    "###### Area of Circle with radius 0.5 is 0.7853981634"
   ]
  },
  {
   "cell_type": "code",
   "execution_count": 9,
   "metadata": {},
   "outputs": [
    {
     "name": "stdout",
     "output_type": "stream",
     "text": [
      "enter radius : 0.5\n",
      "Area of Circle with 0.5 is 0.785\n"
     ]
    }
   ],
   "source": [
    "radius=float(input(\"enter radius : \"))\n",
    "pi=3.14\n",
    "Area=pi*(radius**2)\n",
    "print(f\"Area of Circle with {radius} is {Area}\")"
   ]
  },
  {
   "cell_type": "markdown",
   "metadata": {},
   "source": [
    "## 2. Check Number either positive, negative or zero"
   ]
  },
  {
   "cell_type": "markdown",
   "metadata": {},
   "source": [
    "#### Write a Python program to check if a number is positive, negative or zero\n",
    "###### Program Console Sample Output 1:\n",
    "###### Enter Number: -1\n",
    "##### Negative Number Entered\n",
    "###### Program Console Sample Output 2:\n",
    "##### Integer: 3\n",
    "##### Positive Number Entered\n",
    "###### Program Console Sample Output 3:\n",
    "##### Integer: 0\n",
    "###### Zero Entered"
   ]
  },
  {
   "cell_type": "code",
   "execution_count": 8,
   "metadata": {},
   "outputs": [
    {
     "name": "stdout",
     "output_type": "stream",
     "text": [
      "enter number : 0\n",
      "Zero Entered\n"
     ]
    }
   ],
   "source": [
    "num=int(input(\"enter number : \"))\n",
    "if(num>0):\n",
    "    print(\"positive number entered\")\n",
    "elif (num<0):\n",
    "    print(\"negative number entered\")\n",
    "else:\n",
    "    print(\"Zero Entered\")"
   ]
  },
  {
   "cell_type": "markdown",
   "metadata": {},
   "source": [
    "## 3. Divisibility Check of two numbers"
   ]
  },
  {
   "cell_type": "markdown",
   "metadata": {},
   "source": [
    "#### Write a Python program to check whether a number is completely divisible by another number. Accept two integer values form the user\n",
    "##### Program Console Sample Output 1:\n",
    "###### Enter numerator: 4\n",
    "###### Enter Denominator: 2\n",
    "##### Number 4 is Completely divisible by 2\n",
    "###### Program Console Sample Output 2:\n",
    "##### Enter numerator: 7\n",
    "\n",
    "##### Enter Denominator: 4\n",
    "###### Number 7 is not Completely divisible by 4"
   ]
  },
  {
   "cell_type": "code",
   "execution_count": 8,
   "metadata": {},
   "outputs": [
    {
     "name": "stdout",
     "output_type": "stream",
     "text": [
      "enter numerator :16\n",
      "enter denominator :8\n",
      "Number 16 is completely divisible by 8\n"
     ]
    }
   ],
   "source": [
    "numerator=int(input(\"enter numerator :\"))\n",
    "denominator=int(input(\"enter denominator :\"))\n",
    "\n",
    "if(numerator%denominator==0):\n",
    "    print(f\"Number {numerator} is completely divisible by {denominator}\")\n",
    "else:\n",
    "    print(f\"Number {numerator} is not completely divisible by {denominator}\")"
   ]
  },
  {
   "cell_type": "markdown",
   "metadata": {},
   "source": [
    "## 4. Calculate Volume of a sphere"
   ]
  },
  {
   "cell_type": "markdown",
   "metadata": {},
   "source": [
    "##### Write a Python program to get the volume of a sphere, please take the radius as input from user"
   ]
  },
  {
   "cell_type": "markdown",
   "metadata": {},
   "source": [
    "##### Program Console Output:\n",
    "##### Enter Radius of Sphere: 1\n",
    "###### Volume of the Sphere with Radius 1 is 4.18"
   ]
  },
  {
   "cell_type": "code",
   "execution_count": 12,
   "metadata": {},
   "outputs": [
    {
     "name": "stdout",
     "output_type": "stream",
     "text": [
      "enter radius : 1\n",
      "Volume of Sphere with 1.0 is 4.1866666666666665\n"
     ]
    }
   ],
   "source": [
    "radius=float(input(\"enter radius : \"))\n",
    "pi=3.14\n",
    "Volume=(4/3)*pi*(radius**3)\n",
    "print(f\"Volume of Sphere with {radius} is {Volume}\")"
   ]
  },
  {
   "cell_type": "markdown",
   "metadata": {},
   "source": [
    "## 5. Copy string n times\n",
    "#### Write a Python program to get a string which is n (non-negative integer) copies of a given string.\n",
    "##### Program Console Output:\n",
    "##### Enter String: Hi\n",
    "###### How many copies of String you need: 4\n",
    "###### 4 Copies of Hi are HiHiHiHi"
   ]
  },
  {
   "cell_type": "code",
   "execution_count": 17,
   "metadata": {},
   "outputs": [
    {
     "name": "stdout",
     "output_type": "stream",
     "text": [
      "Enter String :hi\n",
      "enter number of copies you need : 3\n",
      "hihihi\n"
     ]
    }
   ],
   "source": [
    "string=input(\"Enter String :\")\n",
    "num1=int(input(\"enter number of copies you need : \"))\n",
    "if(num1>0):\n",
    "    result=string*num1\n",
    "    print(result)\n",
    "else:\n",
    "    print(\"Enter positive integer\")\n"
   ]
  },
  {
   "cell_type": "markdown",
   "metadata": {},
   "source": [
    "## 6. Check if number is Even or Odd\n",
    "### Write a Python program to find whether a given number (accept from the user) is even or odd, print out an appropriate message to the user\n",
    "#### Program Console Output 1:\n",
    "##### Enter Number: 4\n",
    "###### 4 is Even\n",
    "#### Program Console Output 2:\n",
    "##### Enter Number: 9\n",
    "###### 9 is Odd"
   ]
  },
  {
   "cell_type": "code",
   "execution_count": 22,
   "metadata": {},
   "outputs": [
    {
     "name": "stdout",
     "output_type": "stream",
     "text": [
      "enter number : 145\n",
      "145 is odd\n"
     ]
    }
   ],
   "source": [
    "num1=int(input(\"enter number : \"))\n",
    "if(num1%2==0):\n",
    "    print(f\"{num1} is even\")\n",
    "else:\n",
    "    print(f\"{num1} is odd\")"
   ]
  },
  {
   "cell_type": "markdown",
   "metadata": {},
   "source": [
    "## 7. Vowel Tester\n",
    "### Write a Python program to test whether a passed letter is a vowel or not\n",
    "#### Program Console Output 1:\n",
    "##### Enter a character: A\n",
    "###### Letter A is Vowel\n",
    "#### Program Console Output 2:\n",
    "##### Enter a character: e\n",
    "###### Letter e is Vowel\n",
    "#### Program Console Output 2:\n",
    "##### Enter a character: N\n",
    "###### Letter N is not Vowel"
   ]
  },
  {
   "cell_type": "code",
   "execution_count": 11,
   "metadata": {},
   "outputs": [
    {
     "name": "stdout",
     "output_type": "stream",
     "text": [
      "Enter a character :E\n",
      "Letter E is a Vowel\n"
     ]
    }
   ],
   "source": [
    "char=input(\"Enter a character :\")\n",
    "if(char == \"a\" or char ==  \"e\" or char == \"i\" or char == \"o\" or char == \"u\" or\n",
    "  char == \"A\" or char ==\"E\"  or char ==\"I\"  or char ==\"O\" or char ==\"U\" ):\n",
    "    print(f\"Letter {char} is a Vowel\")\n",
    "else:\n",
    "    print(f\"Letter {char} is not a Vowel\")"
   ]
  },
  {
   "cell_type": "markdown",
   "metadata": {},
   "source": [
    "## 8. Triangle area\n",
    "### Write a Python program that will accept the base and height of a triangle and compute the area\n",
    "###### Reference:\n",
    "https://www.mathgoodies.com/lessons/vol1/area_triangle"
   ]
  },
  {
   "cell_type": "code",
   "execution_count": 16,
   "metadata": {},
   "outputs": [
    {
     "name": "stdout",
     "output_type": "stream",
     "text": [
      "enter base :6\n",
      "enter height :9\n",
      "Area of triangle with base : 6 and height : 9 is 27.0\n"
     ]
    }
   ],
   "source": [
    "base=int(input(\"enter base :\"))\n",
    "height=int(input(\"enter height :\"))\n",
    "area=(base*height)/2\n",
    "print(f\"Area of triangle with base : {base} and height : {height} is {area}\")"
   ]
  },
  {
   "cell_type": "markdown",
   "metadata": {},
   "source": [
    "## 9. Calculate Interest\n",
    "### Write a Python program to compute the future value of a specified principal amount, rate of interest, and a number of years\n",
    "#### Program Console Sample 1:\n",
    "##### Please enter principal amount: 10000\n",
    "###### Please Enter Rate of interest in %: 0.1\n",
    "###### Enter number of years for investment: 5\n",
    "###### After 5 years your principal amount 10000 over an interest rate of 0.1 % will be 16105.1"
   ]
  },
  {
   "cell_type": "code",
   "execution_count": 25,
   "metadata": {},
   "outputs": [
    {
     "name": "stdout",
     "output_type": "stream",
     "text": [
      "enter prinicipal amount : 10000\n",
      "enter rate of interest in % : 0.1\n",
      "enter no of years of investment : 5\n",
      "After 5 years your principal amount 15000.0 over an interest rate of 0.1 % will be 15000.0\n"
     ]
    }
   ],
   "source": [
    "p=int(input(\"enter prinicipal amount : \"))\n",
    "r=float(input(\"enter rate of interest in % : \"))\n",
    "t=int(input(\"enter no of years of investment : \"))\n",
    "simpleInterest=(p*r*t)\n",
    "principal=p+simpleInterest\n",
    "print(f\"After {years} years your principal amount {principal} over an interest rate of {interest} % will be {principal}\")\n"
   ]
  },
  {
   "cell_type": "markdown",
   "metadata": {},
   "source": [
    "## 10. Euclidean distance\n",
    "### write a Python program to compute the distance between the points (x1, y1) and (x2, y2).\n",
    "#### Program Console Sample 1:\n",
    "###### Enter Co-ordinate for x1: 2\n",
    "###### Enter Co-ordinate for x2: 4\n",
    "###### Enter Co-ordinate for y1: 4\n",
    "###### Enter Co-ordinate for y2: 4\n",
    "###### Distance between points (2, 4) and (4, 4) is 2"
   ]
  },
  {
   "cell_type": "markdown",
   "metadata": {},
   "source": [
    "###### Reference:\n",
    "https://en.wikipedia.org/wiki/Euclidean_distance"
   ]
  },
  {
   "cell_type": "code",
   "execution_count": 35,
   "metadata": {},
   "outputs": [
    {
     "name": "stdout",
     "output_type": "stream",
     "text": [
      "Enter co-ordinate for x1:2\n",
      "Enter co-ordinate for x2:4\n",
      "Enter co-ordinate for y1:4\n",
      "Enter co-ordinate for y2:4\n",
      "Distance between points (2,4) and  (4,4) is 2.0\n"
     ]
    }
   ],
   "source": [
    "import math\n",
    "x1=int(input(\"Enter co-ordinate for x1:\"))\n",
    "x2=int(input(\"Enter co-ordinate for x2:\"))\n",
    "y1=int(input(\"Enter co-ordinate for y1:\"))\n",
    "y2=int(input(\"Enter co-ordinate for y2:\"))\n",
    "d=( ((x2-x1)**2)+((y2-y1)**2) )**0.5\n",
    "\n",
    "print(f\"Distance between points ({x1},{x2}) and  ({y1},{y2}) is {d}\")"
   ]
  },
  {
   "cell_type": "markdown",
   "metadata": {},
   "source": [
    "## 11. Feet to Centimeter Converter\n",
    "### Write a Python program to convert height in feet to centimetres.\n",
    "##### Program Console Sample 1:\n",
    "###### Enter Height in Feet: 5\n",
    "###### There are 152.4 Cm in 5 ft\n",
    "###### Reference:\n",
    "https://www.rapidtables.com/convert/length/feet-to-cm.html"
   ]
  },
  {
   "cell_type": "code",
   "execution_count": 36,
   "metadata": {},
   "outputs": [
    {
     "name": "stdout",
     "output_type": "stream",
     "text": [
      "Enter height in feet5\n",
      "There are 152.4cm in 5.0 ft\n"
     ]
    }
   ],
   "source": [
    "height=float(input(\"Enter height in feet\"))\n",
    "h=height*30.48\n",
    "print(f\"There are {h}cm in {height} ft\")"
   ]
  },
  {
   "cell_type": "markdown",
   "metadata": {},
   "source": [
    "## 12. BMI Calculator\n",
    "### Write a Python program to calculate body mass index\n",
    "##### Program Console Sample 1:\n",
    "###### Enter Height in Cm: 180\n",
    "###### Enter Weight in Kg: 75\n",
    "###### Your BMI is 23.15"
   ]
  },
  {
   "cell_type": "code",
   "execution_count": 1,
   "metadata": {},
   "outputs": [
    {
     "name": "stdout",
     "output_type": "stream",
     "text": [
      "Enter height in cm : 180\n",
      "Enter height in kg : 75\n",
      "Your body mass index is:  23.148148148148145\n"
     ]
    }
   ],
   "source": [
    "height=float(input(\"Enter height in cm : \"))\n",
    "weight=float(input(\"Enter height in kg : \"))\n",
    "bmi =(weight/(height*height))*10000\n",
    "\n",
    "\n",
    "print(\"Your body mass index is: \", bmi)"
   ]
  },
  {
   "cell_type": "code",
   "execution_count": null,
   "metadata": {},
   "outputs": [],
   "source": [
    "\n",
    "\n"
   ]
  },
  {
   "cell_type": "code",
   "execution_count": null,
   "metadata": {},
   "outputs": [],
   "source": []
  },
  {
   "cell_type": "markdown",
   "metadata": {},
   "source": [
    "## 13. Sum of n Positive Integers\n",
    "### Write a python program to sum of the first n positive integers\n",
    "#### Program Console Sample 1:\n",
    "###### Enter value of n: 5\n",
    "###### Sum of n Positive integers till 5 is 15"
   ]
  },
  {
   "cell_type": "code",
   "execution_count": 56,
   "metadata": {},
   "outputs": [
    {
     "name": "stdout",
     "output_type": "stream",
     "text": [
      "enter value of n : 3\n",
      "sum of positive integers till 3 is 6.0\n"
     ]
    }
   ],
   "source": [
    "n =int(input(\"enter value of n : \"))\n",
    "sum = n * (n+1) / 2\n",
    "    \n",
    "print(f\"sum of positive integers till {n} is {sum}\")"
   ]
  },
  {
   "cell_type": "markdown",
   "metadata": {},
   "source": [
    "## 14. Digits Sum of a Number\n",
    "### Write a Python program to calculate the sum of the digits in an integer\n",
    "#### Program Console Sample 1:\n",
    "##### Enter a number: 15\n",
    "###### Sum of 1 + 5 is 6\n",
    "#### Program Console Sample 2:\n",
    "##### Enter a number: 1234\n",
    "###### Sum of 1 + 2 + 3 + 4 is 10"
   ]
  },
  {
   "cell_type": "code",
   "execution_count": 60,
   "metadata": {},
   "outputs": [
    {
     "name": "stdout",
     "output_type": "stream",
     "text": [
      "Enter a number:76\n",
      "The total sum of digits is: 13\n"
     ]
    }
   ],
   "source": [
    "n=int(input(\"Enter a number:\"))\n",
    "total=0\n",
    "while(n>0):\n",
    "    digits=n%10\n",
    "    total=total+digits\n",
    "    n=n//10\n",
    "print(\"The total sum of digits is:\",total)"
   ]
  }
 ],
 "metadata": {
  "kernelspec": {
   "display_name": "Python 3",
   "language": "python",
   "name": "python3"
  },
  "language_info": {
   "codemirror_mode": {
    "name": "ipython",
    "version": 3
   },
   "file_extension": ".py",
   "mimetype": "text/x-python",
   "name": "python",
   "nbconvert_exporter": "python",
   "pygments_lexer": "ipython3",
   "version": "3.7.1"
  }
 },
 "nbformat": 4,
 "nbformat_minor": 2
}
